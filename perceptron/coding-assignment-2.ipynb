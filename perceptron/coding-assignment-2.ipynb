{
 "cells": [
  {
   "cell_type": "code",
   "execution_count": 1,
   "metadata": {},
   "outputs": [],
   "source": [
    "from sklearn import datasets as ds\n",
    "import numpy as np\n",
    "from sklearn.model_selection import train_test_split\n",
    "iris = ds.load_iris()\n",
    "\n",
    "X = iris.data\n",
    "Y = iris.target\n",
    "Y[Y > 0] = 1\n",
    "Y[Y <= 0] = -1\n",
    "d = np.shape(X)[1]"
   ]
  },
  {
   "cell_type": "code",
   "execution_count": 2,
   "metadata": {},
   "outputs": [],
   "source": [
    "class Perceptron:\n",
    "    def __init__(self, d):\n",
    "        self.weights = np.zeros(d + 1)\n",
    "        \n",
    "    def LinearClassifier(d):\n",
    "        return Perceptron(d)\n",
    "    \n",
    "    def fit(self, x_train, y_train):\n",
    "        while True:\n",
    "            errors = 0\n",
    "            for xi, yi in zip(x_train, y_train):\n",
    "                if yi * self.predict(xi) <= 0:\n",
    "                    errors += 1\n",
    "                    self.weights[0:-1] += yi * xi\n",
    "                    self.weights[-1] += yi\n",
    "            if errors == 0:\n",
    "                break\n",
    "        \n",
    "    def predict(self, x):\n",
    "        return np.sign(np.dot(x, self.weights[0:-1]) + self.weights[-1])\n",
    "        \n",
    "    def score(self, x_test, y_test):\n",
    "        predictions = self.predict(x_test)\n",
    "        return np.mean(predictions == y_test)        \n",
    "        "
   ]
  },
  {
   "cell_type": "code",
   "execution_count": 3,
   "metadata": {},
   "outputs": [
    {
     "data": {
      "text/plain": [
       "1.0"
      ]
     },
     "execution_count": 3,
     "metadata": {},
     "output_type": "execute_result"
    }
   ],
   "source": [
    "x_train, x_test, y_train, y_test = train_test_split(X, Y, test_size=0.2)\n",
    "\n",
    "h = Perceptron.LinearClassifier(d)\n",
    "\n",
    "h.fit(x_train, y_train)\n",
    "h.score(x_test, y_test)\n"
   ]
  }
 ],
 "metadata": {
  "kernelspec": {
   "display_name": "Python 3 (ipyflow)",
   "language": "python",
   "name": "ipyflow"
  },
  "language_info": {
   "codemirror_mode": {
    "name": "ipython",
    "version": 3
   },
   "file_extension": ".py",
   "mimetype": "text/x-python",
   "name": "python",
   "nbconvert_exporter": "python",
   "pygments_lexer": "ipython3",
   "version": "3.10.15"
  }
 },
 "nbformat": 4,
 "nbformat_minor": 4
}
