{
 "cells": [
  {
   "cell_type": "code",
   "execution_count": 98,
   "metadata": {},
   "outputs": [],
   "source": [
    "import numpy as np\n",
    "import pandas as pd\n",
    "# from sklearn import neighbors\n",
    "# from sklearn.model_selection import train_test_split"
   ]
  },
  {
   "cell_type": "code",
   "execution_count": 99,
   "metadata": {},
   "outputs": [],
   "source": [
    "def train_test_split(x, y, test_size):\n",
    "  # Shuffle the data\n",
    "  indices = np.arange(len(x))\n",
    "  np.random.shuffle(indices)\n",
    "  \n",
    "  # Split the indices based on the test size\n",
    "  test_count = int(len(x) * test_size)\n",
    "  test_indices = indices[:test_count]\n",
    "  train_indices = indices[test_count:]\n",
    "  \n",
    "  # Split the data\n",
    "  x_train, x_test = x[train_indices], x[test_indices]\n",
    "  y_train, y_test = y[train_indices], y[test_indices]\n",
    "  \n",
    "  return x_train, x_test, y_train, y_test"
   ]
  },
  {
   "cell_type": "code",
   "execution_count": 100,
   "metadata": {},
   "outputs": [],
   "source": [
    "import numpy as np\n",
    "\n",
    "class neighbors:\n",
    "    class KNeighborsClassifier:\n",
    "        def __init__(self, n_neighbors=7, p=2):\n",
    "            \"\"\"\n",
    "            Initialize the KNeighborsClassifier.\n",
    "\n",
    "            Parameters:\n",
    "            - n_neighbors (int): Number of neighbors to consider.\n",
    "            - p (int): The power parameter for the Minkowski distance.\n",
    "            \"\"\"\n",
    "            self.n_neighbors = n_neighbors\n",
    "            self.p = p\n",
    "            self.x_train = None\n",
    "            self.y_train = None\n",
    "\n",
    "        def fit(self, x_train, y_train):\n",
    "            \"\"\"\n",
    "            Fit the training data.\n",
    "\n",
    "            Parameters:\n",
    "            - x_train (ndarray): Training data features.\n",
    "            - y_train (ndarray): Training data labels.\n",
    "            \"\"\"\n",
    "            self.x_train = np.asarray(x_train, dtype=float)\n",
    "            self.y_train = np.asarray(y_train)\n",
    "\n",
    "        def _minkowski_distance(self, x1, x2):\n",
    "            \"\"\"\n",
    "            Compute the Minkowski distance between two points.\n",
    "\n",
    "            Parameters:\n",
    "            - x1 (ndarray): First point.\n",
    "            - x2 (ndarray): Second point.\n",
    "\n",
    "            Returns:\n",
    "            - float: Minkowski distance.\n",
    "            \"\"\"\n",
    "            x1 = np.asarray(x1, dtype=float)\n",
    "            x2 = np.asarray(x2, dtype=float)\n",
    "            return np.sum(np.abs(x1 - x2) ** self.p) ** (1 / self.p)\n",
    "\n",
    "        def predict(self, x_test):\n",
    "            \"\"\"\n",
    "            Predict the labels for the test data.\n",
    "\n",
    "            Parameters:\n",
    "            - x_test (ndarray): Test data features.\n",
    "\n",
    "            Returns:\n",
    "            - ndarray: Predicted labels.\n",
    "            \"\"\"\n",
    "            x_test = np.asarray(x_test, dtype=float)\n",
    "            x_test = np.atleast_2d(x_test)\n",
    "\n",
    "            predictions = []\n",
    "\n",
    "            for test_point in x_test:\n",
    "                # Calculate distances from the test point to all training points\n",
    "                distances = [\n",
    "                    self._minkowski_distance(test_point, train_point)\n",
    "                    for train_point in self.x_train\n",
    "                ]\n",
    "\n",
    "                # Find the indices of the k nearest neighbors\n",
    "                nearest_neighbors_indices = np.argsort(distances)[: self.n_neighbors]\n",
    "\n",
    "                # Get the labels of the k nearest neighbors\n",
    "                nearest_labels = self.y_train[nearest_neighbors_indices]\n",
    "\n",
    "                # Determine the most common label (majority vote)\n",
    "                unique, counts = np.unique(nearest_labels, return_counts=True)\n",
    "                majority_vote = unique[np.argmax(counts)]\n",
    "                \n",
    "                predictions.append(majority_vote)               \n",
    "            return np.array(predictions)\n",
    "\n",
    "        def score(self, x_test, y_test):\n",
    "            \"\"\"\n",
    "            Compute the accuracy of the classifier.\n",
    "\n",
    "            Parameters:\n",
    "            - x_test (ndarray): Test data features.\n",
    "            - y_test (ndarray): True labels for the test data.\n",
    "\n",
    "            Returns:\n",
    "            - float: Accuracy score.\n",
    "            \"\"\"\n",
    "            predictions = self.predict(x_test)\n",
    "            return np.mean(predictions == y_test)"
   ]
  },
  {
   "cell_type": "code",
   "execution_count": 101,
   "metadata": {},
   "outputs": [],
   "source": [
    "# For your assignment, you have implement function \"train_test_split\" and\n",
    "# module \"neighbors\" on your own. This means you will have to make the code working\n",
    "# without any modification in cells 2-6\n",
    "\n",
    "df = pd.read_csv('breast-cancer-wisconsin.csv')\n",
    "df.replace('?', -99999, inplace=True)\n",
    "df.drop(['id'], axis=1, inplace=True)\n",
    "\n",
    "x = np.array(df.drop(['class'], axis=1))\n",
    "y = np.array(df['class'])"
   ]
  },
  {
   "cell_type": "code",
   "execution_count": 102,
   "metadata": {},
   "outputs": [],
   "source": [
    "x_train, x_test, y_train, y_test = train_test_split(x, y, test_size=0.2)"
   ]
  },
  {
   "cell_type": "code",
   "execution_count": 103,
   "metadata": {},
   "outputs": [],
   "source": [
    "h = neighbors.KNeighborsClassifier(n_neighbors=7, p=2)\n",
    "h.fit(x_train, y_train)"
   ]
  },
  {
   "cell_type": "code",
   "execution_count": 104,
   "metadata": {},
   "outputs": [
    {
     "name": "stdout",
     "output_type": "stream",
     "text": [
      "[4]\n"
     ]
    }
   ],
   "source": [
    "new_x = np.array([4,6,5,6,7,8,4,9,1])\n",
    "result = h.predict(new_x.reshape(1, -1))\n",
    "print(result)"
   ]
  },
  {
   "cell_type": "code",
   "execution_count": 105,
   "metadata": {},
   "outputs": [
    {
     "name": "stdout",
     "output_type": "stream",
     "text": [
      "0.9784172661870504\n"
     ]
    }
   ],
   "source": [
    "print(h.score(x_test, y_test))"
   ]
  }
 ],
 "metadata": {
  "kernelspec": {
   "display_name": "Python 3 (ipyflow)",
   "language": "python",
   "name": "ipyflow"
  },
  "language_info": {
   "codemirror_mode": {
    "name": "ipython",
    "version": 3
   },
   "file_extension": ".py",
   "mimetype": "text/x-python",
   "name": "python",
   "nbconvert_exporter": "python",
   "pygments_lexer": "ipython3",
   "version": "3.10.15"
  }
 },
 "nbformat": 4,
 "nbformat_minor": 4
}
